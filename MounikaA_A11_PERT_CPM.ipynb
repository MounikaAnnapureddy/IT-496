{
  "nbformat": 4,
  "nbformat_minor": 0,
  "metadata": {
    "colab": {
      "name": "MounikaA_A11_PERT-CPM.ipynb",
      "provenance": [],
      "mount_file_id": "1qg5W6BH3g_7EQlaQoXldlfF-3aNzZJvP",
      "authorship_tag": "ABX9TyPUut7Lb5nizla+1Vu2338d",
      "include_colab_link": true
    },
    "kernelspec": {
      "name": "python3",
      "display_name": "Python 3"
    },
    "language_info": {
      "name": "python"
    }
  },
  "cells": [
    {
      "cell_type": "markdown",
      "metadata": {
        "id": "view-in-github",
        "colab_type": "text"
      },
      "source": [
        "<a href=\"https://colab.research.google.com/github/MounikaAnnapureddy/IT-496/blob/main/MounikaA_A11_PERT_CPM.ipynb\" target=\"_parent\"><img src=\"https://colab.research.google.com/assets/colab-badge.svg\" alt=\"Open In Colab\"/></a>"
      ]
    },
    {
      "cell_type": "code",
      "execution_count": 3,
      "metadata": {
        "colab": {
          "base_uri": "https://localhost:8080/"
        },
        "id": "AQYFlreA6_fl",
        "outputId": "c1415623-c615-4eb3-c2b1-7a133ea031f9"
      },
      "outputs": [
        {
          "output_type": "stream",
          "name": "stdout",
          "text": [
            "   tasks     pred  best  mostL  worst\n",
            "0      A      NaN     3      6      9\n",
            "1      B      NaN     2      5      6\n",
            "2      C        B     2      3      7\n",
            "3      D      A,C     1      3      3\n",
            "4      E        D     0      7      8\n",
            "5      F        C     1      2     10\n",
            "6      G        F     3      4     12\n",
            "7      H        F     1      2     15\n",
            "8      I        B     5     10     30\n",
            "9      J  E, G, H     1      3      4\n",
            "10   EOP      I,J     0      0      0\n"
          ]
        }
      ],
      "source": [
        "from logging import critical\n",
        "import pandas as pd\n",
        "import tensorflow_probability as tfp\n",
        "from collections import Counter\n",
        "\n",
        "tfd = tfp.distributions\n",
        "\n",
        "tasksDF=pd.read_csv(\"/content/drive/MyDrive/PERT-CPM.csv\")\n",
        "print(tasksDF)"
      ]
    },
    {
      "cell_type": "code",
      "source": [
        "taskNames=tasksDF['tasks']\n",
        "\n",
        "paths = [[\"A\",\"D\",\"E\",\"J\"], [\"B\",\"C\",\"D\",\"E\",\"J\"], [\"B\",\"D\",\"F\",\"G\",\"J\"], [\"B\",\"C\",\"F\",\"G\",\"J\"], [\"B\",\"C\",\"F\",\"H\",\"J\"], [\"B\",\"J\"]]\n",
        "\n",
        "simulationDF=pd.DataFrame(columns=taskNames)\n",
        "\n",
        "#print(simulationDF.columns)\n",
        "\n",
        "for index, task in tasksDF.iterrows():\n",
        "  dist=tfd.PERT(low=task['best'], peak=task['mostL'], high=task['worst'], temperature=4)\n",
        "  simulationDF[task['tasks']]=dist.sample(1000)\n",
        "print(simulationDF.head(2))"
      ],
      "metadata": {
        "colab": {
          "base_uri": "https://localhost:8080/"
        },
        "id": "cfQuEN-19CYI",
        "outputId": "396649ab-89c9-47ca-a039-83aefe50a454"
      },
      "execution_count": 4,
      "outputs": [
        {
          "output_type": "stream",
          "name": "stdout",
          "text": [
            "tasks         A         B         C         D         E         F         G  \\\n",
            "0      6.449425  4.009919  2.890555  2.595492  5.609243  3.940888  3.869513   \n",
            "1      5.259065  4.279106  3.957423  2.897198  3.423825  3.608880  6.394645   \n",
            "\n",
            "tasks         H          I         J  EOP  \n",
            "0      5.605597   7.528326  3.140870  NaN  \n",
            "1      6.638458  22.842085  2.540538  NaN  \n"
          ]
        }
      ]
    },
    {
      "cell_type": "code",
      "source": [
        "simulationDF.to_csv(\"/content/drive/MyDrive/simulationDataset.csv\", index=False)"
      ],
      "metadata": {
        "id": "_x9nvIKj9RFv"
      },
      "execution_count": 5,
      "outputs": []
    },
    {
      "cell_type": "code",
      "source": [
        "criticalPaths = []\n",
        "\n",
        "for index in simulationDF.index:\n",
        "  # Initialzie path lengths\n",
        "  pathLengths = []\n",
        "\n",
        "  for path in paths:\n",
        "    pathLength = 0\n",
        "    for task in path:\n",
        "      pathLength+= simulationDF[task][index]\n",
        "    pathLengths.append([str(path), pathLength])\n",
        "\n",
        "  critical = pathLengths[0]\n",
        "\n",
        "  for i in range(0,len(pathLengths)):\n",
        "    # If the current path is longer than the current critical path, make it the new critical path\n",
        "    if(pathLengths[i][1] > critical[1]):\n",
        "      critical = pathLengths[i]\n",
        "\n",
        "  criticalPaths.append(critical[0])\n",
        "import matplotlib.pyplot as plt\n",
        "# Plot a bar graph showing the frequency of each path\n",
        "criticalPathCounts = Counter(criticalPaths)\n",
        "df = pd.DataFrame.from_dict(criticalPathCounts, orient='index')\n",
        "df.plot(color='purple', kind='bar')\n"
      ],
      "metadata": {
        "colab": {
          "base_uri": "https://localhost:8080/",
          "height": 365
        },
        "id": "y_NXcgrp9mtx",
        "outputId": "e0717b9a-a264-4af2-c598-22274e3a7359"
      },
      "execution_count": 6,
      "outputs": [
        {
          "output_type": "execute_result",
          "data": {
            "text/plain": [
              "<matplotlib.axes._subplots.AxesSubplot at 0x7efe878a1f90>"
            ]
          },
          "metadata": {},
          "execution_count": 6
        },
        {
          "output_type": "display_data",
          "data": {
            "text/plain": [
              "<Figure size 432x288 with 1 Axes>"
            ],
            "image/png": "[encoded data removed]"
          },
          "metadata": {
            "needs_background": "light"
          }
        }
      ]
    }
  ]
}