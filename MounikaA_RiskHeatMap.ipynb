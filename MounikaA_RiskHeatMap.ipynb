{
  "nbformat": 4,
  "nbformat_minor": 0,
  "metadata": {
    "colab": {
      "name": "MounikaA_RiskHeatMap.ipynb",
      "provenance": [],
      "mount_file_id": "1UJpwY3csWyq1voYSZCzvRBSs-X6Dwy4E",
      "authorship_tag": "ABX9TyONVmzC/2Nh3C8JhqISVICR",
      "include_colab_link": true
    },
    "kernelspec": {
      "name": "python3",
      "display_name": "Python 3"
    },
    "language_info": {
      "name": "python"
    }
  },
  "cells": [
    {
      "cell_type": "markdown",
      "metadata": {
        "id": "view-in-github",
        "colab_type": "text"
      },
      "source": [
        "<a href=\"https://colab.research.google.com/github/MounikaAnnapureddy/IT-496/blob/main/MounikaA_RiskHeatMap.ipynb\" target=\"_parent\"><img src=\"https://colab.research.google.com/assets/colab-badge.svg\" alt=\"Open In Colab\"/></a>"
      ]
    },
    {
      "cell_type": "code",
      "execution_count": 7,
      "metadata": {
        "colab": {
          "base_uri": "https://localhost:8080/",
          "height": 617
        },
        "id": "WCJC-2xdyssD",
        "outputId": "d3bfda5d-488a-4e99-a615-e33f27ee78e2"
      },
      "outputs": [
        {
          "output_type": "stream",
          "name": "stdout",
          "text": [
            "likelihood  0.1  0.2  0.3  0.5\n",
            "impact                        \n",
            "1           NaN  NaN  NaN  0.5\n",
            "2           NaN  NaN  0.6  NaN\n",
            "4           0.4  NaN  NaN  NaN\n",
            "5           NaN  1.0  NaN  NaN\n",
            "likelihood  0.1  0.2  0.3  0.5\n",
            "impact                        \n",
            "1           NaN  NaN  NaN  0.5\n",
            "2           NaN  NaN  0.6  NaN\n",
            "4           0.4  NaN  NaN  NaN\n",
            "5           NaN  1.0  NaN  NaN\n"
          ]
        },
        {
          "output_type": "display_data",
          "data": {
            "text/plain": [
              "<Figure size 864x432 with 2 Axes>"
            ],
            "image/png": "[encoded data removed]"
          },
          "metadata": {}
        }
      ],
      "source": [
        "import seaborn as sns\n",
        "import pandas as pd\n",
        "import numpy as np\n",
        "import matplotlib.pyplot as plt\n",
        "riskDF=pd.DataFrame(columns=['risk','likelihood','impact','score'])\n",
        "riskDF['risk']=['service down times', 'team member leaves', 'budget cuts', 'security breach exploits']\n",
        "riskDF['likelihood']=[0.2,0.3,0.1,0.5]\n",
        "riskDF['impact']=[5,2,4,1]\n",
        "riskDF['score']=riskDF['impact']*riskDF['likelihood']\n",
        "scoresPivot=riskDF.pivot('impact','likelihood','score')\n",
        "print(scoresPivot)\n",
        "labelsPivot=riskDF.pivot('impact','likelihood','risk')\n",
        "print(labelsPivot)\n",
        "sns.set(rc={'figure.figsize':(12,6)})\n",
        "p1=sns.heatmap(scoresPivot, cmap='Pastel2_r', annot=labelsPivot, fmt='')"
      ]
    },
    {
      "cell_type": "markdown",
      "source": [
        "# New Section"
      ],
      "metadata": {
        "id": "WZwhjvr-y37e"
      }
    }
  ]
}
